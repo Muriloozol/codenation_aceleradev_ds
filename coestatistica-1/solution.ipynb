{
 "cells": [
  {
   "cell_type": "code",
   "execution_count": 4,
   "metadata": {},
   "outputs": [],
   "source": [
    "import pandas as pd\n",
    "\n",
    "df = pd.read_csv('desafio1.csv')\n",
    "\n",
    "df_pivot = df.pivot(columns='estado_residencia', \n",
    "                    values='pontuacao_credito')\n",
    "\n",
    "answer = pd.DataFrame({'moda': df_pivot.mode().loc[0],\n",
    "                       'mediana': df_pivot.median(),\n",
    "                       'media': df_pivot.mean(),\n",
    "                       'desvio_padrao': df_pivot.std()})\n",
    "\n",
    "answer.to_json('submission.json', orient='index')"
   ]
  }
 ],
 "metadata": {
  "kernelspec": {
   "display_name": "codenation",
   "language": "python",
   "name": "codenation"
  },
  "language_info": {
   "codemirror_mode": {
    "name": "ipython",
    "version": 3
   },
   "file_extension": ".py",
   "mimetype": "text/x-python",
   "name": "python",
   "nbconvert_exporter": "python",
   "pygments_lexer": "ipython3",
   "version": "3.8.2"
  }
 },
 "nbformat": 4,
 "nbformat_minor": 4
}
